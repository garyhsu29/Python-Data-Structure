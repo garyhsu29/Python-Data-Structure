{
 "cells": [
  {
   "cell_type": "markdown",
   "metadata": {},
   "source": [
    "# Heap\n",
    "# 1. import the most useful function from heapq module"
   ]
  },
  {
   "cell_type": "code",
   "execution_count": 1,
   "metadata": {},
   "outputs": [],
   "source": [
    "from heapq import heappop, heappush"
   ]
  },
  {
   "cell_type": "code",
   "execution_count": 2,
   "metadata": {},
   "outputs": [
    {
     "name": "stdout",
     "output_type": "stream",
     "text": [
      "heap: [(0, 1, 2, 3), (1, 2, 3, 4)]\n",
      "heap pop: (0, 1, 2, 3)\n",
      "heap after pop: [(1, 2, 3, 4)]\n"
     ]
    }
   ],
   "source": [
    "# 2. Use a list to store the heap\n",
    "heap = []\n",
    "\n",
    "# 3. Use the heappush and heappop (not only a number, could be a tuple, list)\n",
    "heappush(heap,(0,1,2,3))\n",
    "heappush(heap,(1,2,3,4))\n",
    "print('heap:',heap)\n",
    "print('heap pop:',heappop(heap))\n",
    "print('heap after pop:',heap)"
   ]
  },
  {
   "cell_type": "code",
   "execution_count": 3,
   "metadata": {},
   "outputs": [
    {
     "name": "stdout",
     "output_type": "stream",
     "text": [
      "heap: [(0, 1, 2, 3), (0, 2, 3, 4)]\n",
      "heap pop: (0, 1, 2, 3)\n",
      "heap after pop: [(0, 2, 3, 4)]\n"
     ]
    }
   ],
   "source": [
    "heap = []\n",
    "heappush(heap,(0,1,2,3))\n",
    "heappush(heap,(0,2,3,4))\n",
    "print('heap:',heap)\n",
    "print('heap pop:',heappop(heap))\n",
    "print('heap after pop:',heap)"
   ]
  },
  {
   "cell_type": "code",
   "execution_count": 4,
   "metadata": {},
   "outputs": [
    {
     "name": "stdout",
     "output_type": "stream",
     "text": [
      "heap: [(0, 0, 3, 4), (0, 1, 2, 3)]\n",
      "heap pop: (0, 0, 3, 4)\n",
      "heap after pop: [(0, 1, 2, 3)]\n"
     ]
    }
   ],
   "source": [
    "heap = []\n",
    "# the heap is compare by element, if first element is equal -> compare the next\n",
    "heappush(heap,(0,1,2,3))\n",
    "heappush(heap,(0,0,3,4))\n",
    "print('heap:',heap)\n",
    "print('heap pop:',heappop(heap))\n",
    "print('heap after pop:',heap)"
   ]
  },
  {
   "cell_type": "markdown",
   "metadata": {},
   "source": [
    "# Bisect\n",
    "[From geeksforgeeks](!https://www.geeksforgeeks.org/bisect-algorithm-functions-in-python/)\n",
    "# 1. Before we use bisect, we should make sure the list is sorted"
   ]
  },
  {
   "cell_type": "code",
   "execution_count": 5,
   "metadata": {},
   "outputs": [],
   "source": [
    "import bisect"
   ]
  },
  {
   "cell_type": "code",
   "execution_count": 16,
   "metadata": {},
   "outputs": [],
   "source": [
    "li = [0,1,2,3,4,5,6,7,8,9,10]"
   ]
  },
  {
   "cell_type": "code",
   "execution_count": 17,
   "metadata": {},
   "outputs": [
    {
     "name": "stdout",
     "output_type": "stream",
     "text": [
      "Where can I insert the number 0 but list still sorted (left most) 0 (index)\n",
      "Where can I insert the number 0 but list still sorted (left most) 1 (index)\n"
     ]
    }
   ],
   "source": [
    "print('Where can I insert the number 0 but list still sorted (left most)',bisect.bisect_left(li,0),'(index)') \n",
    "print('Where can I insert the number 0 but list still sorted (left most)',bisect.bisect(li,0),'(index)')"
   ]
  },
  {
   "cell_type": "markdown",
   "metadata": {},
   "source": [
    "# 2. Use the bisect to find what is the number most near 0"
   ]
  },
  {
   "cell_type": "code",
   "execution_count": 28,
   "metadata": {},
   "outputs": [
    {
     "name": "stdout",
     "output_type": "stream",
     "text": [
      "Where should number 0 insert (left most) 3 (index)\n",
      "Where should number 0 insert (right most) 3 (index)\n",
      "list after sort: [-55, -10, -1, 1, 3, 6, 7, 7, 8, 15, 124]\n",
      "index 2: -1\n",
      "index 3: 1\n"
     ]
    }
   ],
   "source": [
    "unsorted_li = [7,8,3,1,124,15,6,7,-10,-55,-1]\n",
    "\n",
    "print('Where should number 0 insert (left most)',bisect.bisect_left(sorted(unsorted_li),0),'(index)')\n",
    "print('Where should number 0 insert (right most)',bisect.bisect(sorted(unsorted_li),0),'(index)')\n",
    "print('list after sort:',sorted(unsorted_li))\n",
    "print('index 2:',sorted(unsorted_li)[2])\n",
    "print('index 3:',sorted(unsorted_li)[3])"
   ]
  },
  {
   "cell_type": "code",
   "execution_count": null,
   "metadata": {},
   "outputs": [],
   "source": []
  }
 ],
 "metadata": {
  "kernelspec": {
   "display_name": "Python 3",
   "language": "python",
   "name": "python3"
  },
  "language_info": {
   "codemirror_mode": {
    "name": "ipython",
    "version": 3
   },
   "file_extension": ".py",
   "mimetype": "text/x-python",
   "name": "python",
   "nbconvert_exporter": "python",
   "pygments_lexer": "ipython3",
   "version": "3.6.6"
  }
 },
 "nbformat": 4,
 "nbformat_minor": 2
}
